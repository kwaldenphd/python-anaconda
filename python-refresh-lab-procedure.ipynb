{
 "cells": [
  {
   "cell_type": "markdown",
   "metadata": {},
   "source": [
    "# Python Refresh Lab Procedure\n",
    "\n",
    "- [Task 1: Hello World](#task-1-hello-world)\n",
    "- [Task 2: Working with Strings and Variables](#task-2-working-with-strings-and-variables)\n",
    "- [Task 3: Working with Numbers](#task-3-working-with-numbers)\n",
    "- [Task 4: Combining Variable Types](#task-4-combining-variable-types)\n",
    "- [Task 5: Creating Lists](#task-5-creating-lists)\n",
    "  * [A few additional functions that can be useful when working with lists](#a-few-additional-functions-that-can-be-useful-when-working-with-lists)\n",
    "    * [Reverse](#reverse)\n",
    "    * [Sort](#sort)\n",
    "    * [Len](#len)\n",
    "- [Task 6: Lists of Numbers](#task-6-lists-of-numbers)\n",
    "- [Task 7: Working With Loops](#task-7-working-with-loops)\n",
    "- [Task 8: If...Statements](#task-8-ifstatements)\n",
    "- [Task 9: Gathering Input](#task-9-gathering-input)\n",
    "- [Task 10: Describing Data With Dictionaries](#task-10-describing-data-with-dictionaries)\n",
    "- [Notebook Questions for This Component of the Lab](#notebook-questions-for-this-component-of-the-lab)\n",
    "\n",
    "# Task 1: Hello World\n",
    "\n",
    "1. We'll write our first Python program using a variation on the now familiar “Hello World!”\n",
    "\n",
    "2. Open a new Hello_World file."
   ]
  },
  {
   "cell_type": "code",
   "execution_count": null,
   "metadata": {},
   "outputs": [],
   "source": [
    "print(\"Hello World!\")"
   ]
  },
  {
   "cell_type": "markdown",
   "metadata": {},
   "source": [
    "3. Type the code listed above.\n",
    "\n",
    "4. Notice the IDE has highlighted the syntax for us to make debugging easier.\n",
    "\n",
    "5. Now we need to run the program.\n",
    "\n",
    "6. You have just successfully written your first Python program. What just happened? \n",
    "\n",
    "7. When you execute the program, the IDE runs the command through the Python interpreter, this is another program that reads through the Python code that you just wrote and determines what each piece of code means and then executes the code (or runs it). \n",
    "\n",
    "8. In this example, the Python interpreter recognizes the word print as a Python function. This function allows you to “print” to the screen or send output to the computer screen. \n",
    "\n",
    "9. The brackets () contain the information to be printed. In this case you have entered a string “Hello World.” \n",
    "\n",
    "<blockquote>A string is any series of characters. Strings are identified by the <code>“ ”</code> or alternatively by <code>‘ ’</code>.</blockquote>\n",
    "\n",
    "10. Let’s change this program a bit. We are going to assign our first variable. A variable is a placeholder for a piece of information. You can think of it as a basket or container. \n",
    "\n",
    "11. Let’s modify the code as follows:"
   ]
  },
  {
   "cell_type": "code",
   "execution_count": null,
   "metadata": {},
   "outputs": [],
   "source": [
    "hello=\"Hello World\"\n",
    "print(hello)"
   ]
  },
  {
   "cell_type": "markdown",
   "metadata": {},
   "source": [
    "12. When working in Spyder, notice the IDE is keeping track of the variable that you created on the right side of the screen.\n",
    "\n",
    "13. When you execute the command you will see the same results as the first iteration. Variables are helpful when you need to use the same information multiple times in the same program. \n",
    "\n",
    "14. Python has a few rules for variables:\n",
    "  *\tVariable names can only include letter, numbers, or underscores, but cannot start with a number.\n",
    "  *\tSpaces are not permitted.\n",
    "  *\tThe names of Python methods and functions are reserved, meaning that they cannot be used as variable names. So, print cannot be used as a variable name.\n",
    "  * As a rule, variable names should be short and descriptive."
   ]
  },
  {
   "cell_type": "markdown",
   "metadata": {},
   "source": [
    "<blockquote>QA: In your own words, explain the difference between the print(hello) command we just used and print(“hello”).</blockquote>"
   ]
  },
  {
   "cell_type": "markdown",
   "metadata": {},
   "source": [
    "# Task 2: Working with Strings and Variables\n",
    "\n",
    "15. Python has a few built-in functions for working with strings. Create a new file called `name.py`. Assign your first and last name to the variable name in all lower-case letters."
   ]
  },
  {
   "cell_type": "code",
   "execution_count": null,
   "metadata": {},
   "outputs": [],
   "source": [
    "name = \"katherine walden\""
   ]
  },
  {
   "cell_type": "markdown",
   "metadata": {},
   "source": [
    "16. Next, we’ll use the `print` function with the method `title`. Python functions and methods always end with a `()`. Methods define an additional action that can be applied to the data."
   ]
  },
  {
   "cell_type": "code",
   "execution_count": null,
   "metadata": {},
   "outputs": [],
   "source": [
    "name = \"katherine walden\"\n",
    "print(name.title())"
   ]
  },
  {
   "cell_type": "markdown",
   "metadata": {},
   "source": [
    "17. Your program should output your data with a leading capital letter.\n",
    "\n",
    "18. We can also change the case using the upper method and lower method: `print(name.upper())` outputs your string with all capital letters, while `print(name.lower())` outputs your string in all lower case.\n",
    "\n",
    "`Katherine Walden`\n",
    "`KATHERINE WALDEN`\n",
    "`katherine walden`\n",
    "\n",
    "19. Try adding two additional print functions calling the name variable with each of these methods.  "
   ]
  },
  {
   "cell_type": "markdown",
   "metadata": {},
   "source": [
    "<blockquote>QB: Describe the syntax three commands that we just used in your own words. Define the function and method for each example.</blockquote>"
   ]
  },
  {
   "cell_type": "markdown",
   "metadata": {},
   "source": [
    "20. Let’s modify our code a bit and create two new variables `first_name` for your first name and `last_name` for your last name. We can then combine these two string variables (called concatenation) in a third variable called `full_name`."
   ]
  },
  {
   "cell_type": "code",
   "execution_count": null,
   "metadata": {},
   "outputs": [],
   "source": [
    "first_name = \"katherine\"\n",
    "last_name = \"walden\"\n",
    "full_name = first_name + \" \" + last_name"
   ]
  },
  {
   "cell_type": "markdown",
   "metadata": {},
   "source": [
    "21. If we want our first and last name to be separated by a space, we need to tell Python to add one in by including the `“ “`, otherwise, each string will be printed back-to-back."
   ]
  },
  {
   "cell_type": "code",
   "execution_count": null,
   "metadata": {},
   "outputs": [],
   "source": [
    "first_name = \"katherine\"\n",
    "last_name = \"walden\"\n",
    "full_name = first_name + \" \" + last_name\n",
    "\n",
    "print(full_name)"
   ]
  },
  {
   "cell_type": "markdown",
   "metadata": {},
   "source": [
    "22. We can then use the `print` function as we did before to output `full_name` to the screen."
   ]
  },
  {
   "cell_type": "code",
   "execution_count": null,
   "metadata": {},
   "outputs": [],
   "source": [
    "first_name = \"katherine\"\n",
    "last_name = \"walden\"\n",
    "full_name = first_name + \" \" + last_name\n",
    "\n",
    "print(\"Hello, \" + full_name.title() + \"!\")"
   ]
  },
  {
   "cell_type": "markdown",
   "metadata": {},
   "source": [
    "23. We could combine strings and variables in the same `print` function to output a full sentence to the screen."
   ]
  },
  {
   "cell_type": "code",
   "execution_count": null,
   "metadata": {},
   "outputs": [],
   "source": [
    "first_name = \"katherine\"\n",
    "last_name = \"walden\"\n",
    "full_name = first_name + \" \" + last_name\n",
    "\n",
    "sentence=\"Hello, \" + full_name.title() + \"!\"\n",
    "\n",
    "print(sentence)"
   ]
  },
  {
   "cell_type": "markdown",
   "metadata": {},
   "source": [
    "24. We could also assign this whole sentence to a variable and return the same output."
   ]
  },
  {
   "cell_type": "markdown",
   "metadata": {},
   "source": [
    "<blockquote>QC: Explain how each of these two programs (above) work in your own words.</blockquote>"
   ]
  },
  {
   "cell_type": "markdown",
   "metadata": {},
   "source": [
    "# Task 3: Working With Numbers\n",
    "\n",
    "25. Python works with integers (whole numbers) and floats (any number with a decimal point). Python uses the basic mathematic symbols to perform functions: `+` (add), `-` (subtract), `*` (multiply), `/` (divide). \n",
    "\n",
    "26. Try this program:"
   ]
  },
  {
   "cell_type": "code",
   "execution_count": null,
   "metadata": {},
   "outputs": [],
   "source": [
    "print(2+3)\n",
    "print(2-3)\n",
    "print(2*3)\n",
    "print(2/3)"
   ]
  },
  {
   "cell_type": "markdown",
   "metadata": {},
   "source": [
    "<blockquote>QD: Modify the sample code provided in step 26 to create your own arithmetic program.</blockquote>"
   ]
  },
  {
   "cell_type": "markdown",
   "metadata": {},
   "source": [
    "27. Hint: Try `print(2.0/3.0)` using the floating point integers (numbers with decimal points).\n",
    "\n",
    "# Task 4: Combining Variable Types\n",
    "\n",
    "28. Let’s write a new program with an integer variable and a string variable."
   ]
  },
  {
   "cell_type": "code",
   "execution_count": null,
   "metadata": {},
   "outputs": [],
   "source": [
    "course_name=\"Elements of Computing II\"\n",
    "course_number = 10102\n",
    "\n",
    "print(\"Welcome to \" + course_name.title() + \" CSE:\" + course_number)"
   ]
  },
  {
   "cell_type": "markdown",
   "metadata": {},
   "source": [
    "29. When you execute the program, you will receive an error.\n",
    "\n",
    "<p align=\"center\"><a href=\"https://github.com/kwaldenphd/Python/blob/master/images/Image_8.png?raw=true\"><img class=\"aligncenter\" src=\"https://github.com/kwaldenphd/Python/blob/master/images/Image_8.png?raw=true\" /></a></p>\n",
    "\n",
    "30. The `type` error is telling us that we cannot use these two different variable types in the same function. \n",
    "\n",
    "31. When we want numbers to be read as characters rather than numeric digits, we have to use the string method `str()` to convert the integer into a string of characters."
   ]
  },
  {
   "cell_type": "code",
   "execution_count": null,
   "metadata": {},
   "outputs": [],
   "source": [
    "print(\"Welcome to \" + course_name.title() + \" CSE:\" + str(course_number))"
   ]
  },
  {
   "cell_type": "markdown",
   "metadata": {},
   "source": [
    "<blockquote>QE: Explain `concatenation` in your own words. Why must we convert numbers to strings in the program above? Refer to this example and the previous example.</blockquote>"
   ]
  },
  {
   "cell_type": "markdown",
   "metadata": {},
   "source": [
    "32. Python allows us to store information in a few different ways. \n",
    "\n",
    "33. Let’s start with lists. Lists are an ordered collection of items. Lists can be numbers or strings. They are declared with a variable name, but the information is contained within `[ ]` and the individual items are separated by a comma. \n",
    "\n",
    "34. Write a list of a few of your favorite things."
   ]
  },
  {
   "cell_type": "code",
   "execution_count": null,
   "metadata": {},
   "outputs": [],
   "source": [
    "cookies = ['chocolate chip', 'snickerdoodle', 'peanut butter', 'sugar']"
   ]
  },
  {
   "cell_type": "markdown",
   "metadata": {},
   "source": [
    "35. We can print this list with a print function `print(cookies)`, but Python returns a representation of the list, just as we entered it."
   ]
  },
  {
   "cell_type": "code",
   "execution_count": null,
   "metadata": {},
   "outputs": [],
   "source": [
    "print(cookies)"
   ]
  },
  {
   "cell_type": "markdown",
   "metadata": {},
   "source": [
    "36. This isn’t particularly useful by itself; however, we can use the position of each item (called the *index*) to perform different functions.\n",
    "\n",
    "37. Add a print function calling a specific item on your list."
   ]
  },
  {
   "cell_type": "code",
   "execution_count": null,
   "metadata": {},
   "outputs": [],
   "source": [
    "print(cookies[0].title())"
   ]
  },
  {
   "cell_type": "markdown",
   "metadata": {},
   "source": [
    "38. This command returns the first item on my list. This is the item in the `0` position on my list.\n",
    "\n",
    "39. Items in a list are indexed with a number, **beginning with 0 NOT 1.**\n",
    "\n",
    "40. A `print` command that outputs the last item on my list of four items would look like this."
   ]
  },
  {
   "cell_type": "code",
   "execution_count": null,
   "metadata": {},
   "outputs": [],
   "source": [
    "cookies = ['chocolate chip', 'snickerdoodle', 'peanut butter', 'sugar']\n",
    "print(cookies[3].title())"
   ]
  },
  {
   "cell_type": "markdown",
   "metadata": {},
   "source": [
    "41. We can also work backwards on our list using negative numbers. For example, to call the last item on the list we could also use the index position `-1`."
   ]
  },
  {
   "cell_type": "code",
   "execution_count": null,
   "metadata": {},
   "outputs": [],
   "source": [
    "cookies = ['chocolate chip', 'snickerdoodle', 'peanut butter', 'sugar']\n",
    "print(cookies[-1].title())"
   ]
  },
  {
   "cell_type": "markdown",
   "metadata": {},
   "source": [
    "42. To return the second to last item, we could use -2. For the third to last -3, etc. etc.\n",
    "\n",
    "43. We can concatenate our list items in strings."
   ]
  },
  {
   "cell_type": "code",
   "execution_count": null,
   "metadata": {},
   "outputs": [],
   "source": [
    "cookies = ['chocolate chip', 'snickerdoodle', 'peanut butter', 'sugar']\n",
    "print(\"My favorite cookie to bake is \" + cookies[1].title() + \".\")"
   ]
  },
  {
   "cell_type": "markdown",
   "metadata": {},
   "source": [
    "44. Which outputs `My favorite cookie to bake is snickerdoodle.`\n",
    "\n",
    "45. We can also change the items in a list. \n",
    "\n",
    "46. Maybe I have a friend who is allergic to peanut butter. I can change the `peanut butter` entry."
   ]
  },
  {
   "cell_type": "code",
   "execution_count": null,
   "metadata": {},
   "outputs": [],
   "source": [
    "cookies = ['chocolate chip', 'snickerdoodle', 'peanut butter', 'sugar']\n",
    "cookies[2] = 'oatmeal'\n",
    "print(cookies)"
   ]
  },
  {
   "cell_type": "markdown",
   "metadata": {},
   "source": [
    "47. The print function outputs the modified list.\n",
    "\n",
    "48. We can also add items to our list using the append function."
   ]
  },
  {
   "cell_type": "code",
   "execution_count": null,
   "metadata": {},
   "outputs": [],
   "source": [
    "cookies = ['chocolate chip', 'snickerdoodle', 'peanut butter', 'sugar']\n",
    "cookies.append('oatmeal')\n",
    "print(cookies)"
   ]
  },
  {
   "cell_type": "markdown",
   "metadata": {},
   "source": [
    "49. The print function now returns a list of five items `[chocolate chip, snickerdoodle, peanut butter, sugar, oatmeal]`\n",
    "\n",
    "50. We can also use `append` to create new lists."
   ]
  },
  {
   "cell_type": "code",
   "execution_count": null,
   "metadata": {},
   "outputs": [],
   "source": [
    "my_pets = []\n",
    "my_pets.append('Christy Matthewson')\n",
    "my_pets.append('Smokey Jo Wood')\n",
    "my_pets.append('Sandy Koufax')\n",
    "print(my_pets)"
   ]
  },
  {
   "cell_type": "markdown",
   "metadata": {},
   "source": [
    "51. In this block of code, we started with an empty list `[]`. Then the next three lines with `append` added new items to the list."
   ]
  },
  {
   "cell_type": "markdown",
   "metadata": {},
   "source": [
    "<blockquote>QF: Create your own list using the program above as an example. Share your code in your notebook as well as the result. What is the number position for each of the items in your list? How would you return the value of the first item? How would you return the value of the last item?</blockquote>"
   ]
  },
  {
   "cell_type": "markdown",
   "metadata": {},
   "source": [
    "52. With `append`, items are added to the end of the list. \n",
    "\n",
    "53. The `insert` function allows us to add items to any position in the list."
   ]
  },
  {
   "cell_type": "code",
   "execution_count": null,
   "metadata": {},
   "outputs": [],
   "source": [
    "fruit = ['apple', 'pear', 'banana']\n",
    "fruit.insert(1, 'orange')\n",
    "print(fruit)"
   ]
  },
  {
   "cell_type": "markdown",
   "metadata": {},
   "source": [
    "54. This block of code adds orange to the second position on the list (index position 1).\n",
    "\n",
    "55. The output is `['apple', 'orange', 'pear', 'banana']`\n",
    "\n",
    "56. Conversely, the `del` statement allows you to delete items from your list using the index number.\n",
    "\n",
    "57. The following code will remove orange from the list."
   ]
  },
  {
   "cell_type": "code",
   "execution_count": null,
   "metadata": {},
   "outputs": [],
   "source": [
    "fruit = ['apple', 'orange', 'pear', 'banana']\n",
    "del fruit[1]\n",
    "print(fruit)"
   ]
  },
  {
   "cell_type": "markdown",
   "metadata": {},
   "source": [
    "58. We can also delete items by value (instead of position) using `remove`."
   ]
  },
  {
   "cell_type": "code",
   "execution_count": null,
   "metadata": {},
   "outputs": [],
   "source": [
    "fruit = ['apple', 'orange', 'pear', 'banana']\n",
    "fruit.remove('orange')\n",
    "print(fruit)"
   ]
  },
  {
   "cell_type": "markdown",
   "metadata": {},
   "source": [
    "<blockquote><code>remove</code> only removes the first instance of the value in the list. So, if in the previous example orange appeared on the list a second time, only the first instance would be removed. To remove all instances, you would need to perform a loop (we’ll talk about this shortly).</blockquote>\n",
    "\n",
    "## A few additional functions that can be useful when working with lists.\n",
    "\n",
    "### `Reverse`\n",
    "\n",
    "59. To print in reverse order, use `reverse`."
   ]
  },
  {
   "cell_type": "code",
   "execution_count": null,
   "metadata": {},
   "outputs": [],
   "source": [
    "fruit = ['apple', 'orange', 'pear', 'banana']\n",
    "fruit.reverse()\n",
    "print(fruit)"
   ]
  },
  {
   "cell_type": "markdown",
   "metadata": {},
   "source": [
    "### `Sort`\n",
    "\n",
    "60. To alphabetize your list, use the `sort` method."
   ]
  },
  {
   "cell_type": "code",
   "execution_count": null,
   "metadata": {},
   "outputs": [],
   "source": [
    "fruit = ['apple', 'orange', 'pear', 'banana']\n",
    "fruit.sort()\n",
    "print(fruit)"
   ]
  },
  {
   "cell_type": "markdown",
   "metadata": {},
   "source": [
    "### `Len`\n",
    "\n",
    "61. To find the length of your list, use the `len` function."
   ]
  },
  {
   "cell_type": "code",
   "execution_count": null,
   "metadata": {},
   "outputs": [],
   "source": [
    "fruit = ['apple', 'orange', 'pear', 'banana']\n",
    "length = len(fruit)\n",
    "print(length)"
   ]
  },
  {
   "cell_type": "markdown",
   "metadata": {},
   "source": [
    "<blockquote>QG: What is an alternative way to write the print command to return the length of the list. *Hint* you’ll combine the last two lines of the example above.</blockquote>"
   ]
  },
  {
   "cell_type": "markdown",
   "metadata": {},
   "source": [
    "# Task 6: Lists of Numbers\n",
    "\n",
    "62. We can also work with numbers in lists. \n",
    "\n",
    "63. We can create a list in the same way that we did in the previous example, or we can use the range function."
   ]
  },
  {
   "cell_type": "code",
   "execution_count": null,
   "metadata": {},
   "outputs": [],
   "source": [
    "#In this example we'll wrap the list() function around the range() function to create a list of numbers\n",
    "\n",
    "numbers = list(range(1,10))\n",
    "print(numbers)"
   ]
  },
  {
   "cell_type": "markdown",
   "metadata": {},
   "source": [
    "64. This outputs `[1, 2, 3, 4, 5, 6, 7, 8, 9]`\n",
    "\n",
    "65. You may have expected to see the numbers one to ten printed. This is yet another example of the quirks of working with programming languages. \n",
    "\n",
    "66. Python starts with the first number and quits when it reaches the last number of your range. Because it stops at 10, it doesn’t include the 10."
   ]
  },
  {
   "cell_type": "markdown",
   "metadata": {},
   "source": [
    "<blockquote>QH: How would you modify this code to output the full range 1-10?</blockquote>"
   ]
  },
  {
   "cell_type": "markdown",
   "metadata": {},
   "source": [
    "67. What if we just wanted the odd numbers in this range? We could add an additional value to the `range` function to tell the computer to count by two."
   ]
  },
  {
   "cell_type": "code",
   "execution_count": null,
   "metadata": {},
   "outputs": [],
   "source": [
    "numbers = list(range(1,11,2))\n",
    "print(numbers)"
   ]
  },
  {
   "cell_type": "markdown",
   "metadata": {},
   "source": [
    "<blockquote>QI: How would you rewrite the code to include only the even numbers from 1 to 10?</blockquote>"
   ]
  },
  {
   "cell_type": "markdown",
   "metadata": {},
   "source": [
    "68. Can you write a program that creates a list that represents all of the different patterns we could represent from 1 bit to 8 bits, like our chart from binary math lab?\n",
    "\n",
    "- 1 bit - 2 patterns\n",
    "- 2 bits - 4\n",
    "- 3 bits - 8\n",
    "- 4 bits - 16\n",
    "- 5 bits - 32\n",
    "- 6 bits - 64\n",
    "- 7 bits - 128\n",
    "- 8 bits - 256\n",
    "- n bits -2<sup>n</sup> patterns\n",
    "\n",
    "69. Try to write a program that outputs the list: `[2, 4, 8, 16, 32, 64, 128, 256]`.\n",
    "\n",
    "<blockquote>Hint: a double * represents exponents in Python. So 2<sup>2</sup> would be <code>2**2</code>.</blockquote>\n",
    "\n",
    "70. There are multiple ways to achieve this output."
   ]
  },
  {
   "cell_type": "code",
   "execution_count": null,
   "metadata": {},
   "outputs": [],
   "source": [
    "patterns = []\n",
    "for bit in range(1,9):\n",
    "  patterns.append(2**bit)\n",
    "print(patterns)"
   ]
  },
  {
   "cell_type": "markdown",
   "metadata": {},
   "source": [
    "<blockquote>QJ: Either include a snippet of your version of this program in your notebook and explain your code, AND/OR explain how the example version of this program works.</blockquote>"
   ]
  },
  {
   "cell_type": "markdown",
   "metadata": {},
   "source": [
    "71. Python also allows us to return the minimum value, maximum value, and sum of the numbers in a list."
   ]
  },
  {
   "cell_type": "code",
   "execution_count": null,
   "metadata": {},
   "outputs": [],
   "source": [
    "patterns = []\n",
    "for bit in range(1,9):\n",
    "  patterns.append(2**bit)\n",
    "\n",
    "print(min(patterns))\n",
    "print(max(patterns))\n",
    "print(sum(patterns))"
   ]
  },
  {
   "cell_type": "markdown",
   "metadata": {},
   "source": [
    "72. This program outputs\n",
    "`2`\n",
    "`256`\n",
    "`510`\n",
    "\n",
    "# Task 7: Working With Loops\n",
    "\n",
    "73. Loops are one of the most common computer functions. \n",
    "\n",
    "74. In a loop, the computer will continue to follow the instructions, until it can’t perform that function any longer. We’ll use a list to write our first loop."
   ]
  },
  {
   "cell_type": "code",
   "execution_count": null,
   "metadata": {},
   "outputs": [],
   "source": [
    "#loops through a list of the members of the House Stark.\n",
    "\n",
    "characters = ['Arya', 'Benjen', 'Bran', 'Catelyn', 'Eddard', 'Rickon', 'Robb', 'Sansa']\n",
    "\n",
    "for character in characters:\n",
    "  print(character.title() + \" Stark\")"
   ]
  },
  {
   "cell_type": "markdown",
   "metadata": {},
   "source": [
    "<blockquote>Note: I used the # to create a comment and describe the purpose of this Python program. Comments are written for the human users of the program and will not be processed as code by the computer. Every programming language uses a different set of symbols to designate comments in the code. It’s good practice to include comments in your code so that you code can be modified and reused.</blockquote>\n",
    "\n",
    "<blockquote>Note the use of the plural for the name of the list and the singular for the individual item is not required. We are just declaring variables here. I could have used anything to name the individual items (e.g. for person in characters). All you are doing with this step is setting a new variable for the individual item. It is standard convention to use the plural and singular terms so that the person reading the code can interpret what it is doing.</blockquote>\n",
    "\n",
    "75. The loop command steps through the list one value at a time. The loop continues until it reaches the end of the list. \n",
    "\n",
    "76. In this case, for each item in the list called `“characters”` the program prints the value of each `“character”` in the list concatenated with the string `\" Stark”`. \n",
    "\n",
    "This produces the output:\n",
    "```\n",
    "Arya Stark\n",
    "Benjen Stark\n",
    "Bran Stark\n",
    "Catelyn Stark\n",
    "Eddard Stark\n",
    "Rickon Stark\n",
    "Robb Stark\n",
    "Sansa Stark\n",
    "```\n",
    "\n",
    "77. Now let's look at a different loop."
   ]
  },
  {
   "cell_type": "code",
   "execution_count": null,
   "metadata": {},
   "outputs": [],
   "source": [
    "characters = ['Arya', 'Benjen', 'Bran', 'Catelyn', 'Eddard', 'Rickon', 'Robb', 'Sansa']\n",
    "print('Members of the House Stark:')\n",
    "for character in characters:\n",
    "  print(character.title() + \" Stark\")\n",
    "print(characters[0].title() + \" is my favorite.\")"
   ]
  },
  {
   "cell_type": "markdown",
   "metadata": {},
   "source": [
    "<blockquote>QK: What do you expect this code to output? Explain how this program works in your own words.</blockquote>"
   ]
  },
  {
   "cell_type": "markdown",
   "metadata": {},
   "source": [
    "78. Comments that walk through each line of this program:"
   ]
  },
  {
   "cell_type": "code",
   "execution_count": null,
   "metadata": {},
   "outputs": [],
   "source": [
    "#this line creates the list of character names\n",
    "characters = ['Arya', 'Benjen', 'Bran', 'Catelyn', 'Eddard', 'Rickon', 'Robb', 'Sansa']\n",
    "\n",
    "#this first print command prints a header for my list \"Members of the House Stark\"\n",
    "print('Members of the House Stark:')\n",
    "\n",
    "#here is the loop from the previous example\n",
    "for character in characters:\n",
    "  #the indentation is important here. This indent indicates that this print command is part of the loop\n",
    "  print(character.title() + \" Stark\")\n",
    "  \n",
    "#this line is not indented, so it is executed after the loop is complete.  \n",
    "print(characters[0].title() + \" is my favorite.\")"
   ]
  },
  {
   "cell_type": "markdown",
   "metadata": {},
   "source": [
    "# Task 8: If...Statements\n",
    "\n",
    "79. If-then statements are another common computer function. If statements are conditional, meaning that there is a test to determine if a statement is true or false and then the computer takes some defined action."
   ]
  },
  {
   "cell_type": "code",
   "execution_count": null,
   "metadata": {},
   "outputs": [],
   "source": [
    "#here is a list of names\n",
    "names=['department of computer science', 'computer science department', 'cs', 'cse', 'department of computer science and engineering']\n",
    "\n",
    "#here is a loop. I am telling Python to look at each of the items in this list\n",
    "for name in names:\n",
    "\n",
    "  #this indent tells Python that this next action is part of the loop\n",
    "  #this is my if statement. Note that like a loop it ends in a colon (:)\n",
    "  #the double == is an equality operator. It's a boolean test (returns TRUE or FALSE)\n",
    "  if name == 'cse':\n",
    "\n",
    "    #if the value is equal to cse, then the conditional statement returns TRUE and the value is printed in all upper case letters\n",
    "    print(name.upper())\n",
    "\n",
    "  #the else statement gives the set of instructions for a FALSE value. Notice that it is indented same as the if statement.\n",
    "  else:\n",
    "\n",
    "    #All other values that are not 'cse' are printed as Titles\n",
    "    print(name.title())"
   ]
  },
  {
   "cell_type": "markdown",
   "metadata": {},
   "source": [
    "80. This program returns the output\n",
    "`Department of Computer Science`\n",
    "`Computer Science Department`\n",
    "`Cs`\n",
    "`CSE`"
   ]
  },
  {
   "cell_type": "markdown",
   "metadata": {},
   "source": [
    "81. This program without the comments:"
   ]
  },
  {
   "cell_type": "code",
   "execution_count": null,
   "metadata": {},
   "outputs": [],
   "source": [
    "names=['department of computer science', 'computer science department', 'cse', 'department of computer science and engineering']\n",
    "\n",
    "for name in names:\n",
    "  if name == 'cse':\n",
    "    print(name.upper())\n",
    "  else:\n",
    "    print(name.title())"
   ]
  },
  {
   "cell_type": "markdown",
   "metadata": {},
   "source": [
    "<blockquote>QL: Did the program return the results that you expected? Explain the output in your own words.</blockquote>"
   ]
  },
  {
   "cell_type": "markdown",
   "metadata": {},
   "source": [
    "82. Python uses a variety of Boolean Operators – these are the conditional tests that return a True or False."
   ]
  },
  {
   "cell_type": "code",
   "execution_count": null,
   "metadata": {},
   "outputs": [],
   "source": [
    "#set the variable number to 10\n",
    "number = 10\n",
    "\n",
    "#the following statements will return true or false\n",
    "\n",
    "# EQUAL !==\n",
    "print(number == 15)\n",
    "print(number ==10)\n",
    "\n",
    "# GREATER THAN >\n",
    "print(number > 10)\n",
    "print(number > 4)\n",
    "\n",
    "# LESS THAN <\n",
    "print(number < 10)\n",
    "print(number < 15)\n",
    "\n",
    "# GREATER THAN OR EQUAL TO >=\n",
    "print(number >= 15)\n",
    "print(number >= 10)\n",
    "\n",
    "# LESS THAN OR EQUAL TO <=\n",
    "print(number <= 4)\n",
    "print(number <= 10)\n",
    "\n",
    "#TESTING MULTIPLE CONDITIONS\n",
    "\n",
    "#AND\n",
    "print(number > 1 and number <20)\n",
    "\n",
    "#OR\n",
    "print(number ==10 or number ==20)"
   ]
  },
  {
   "cell_type": "markdown",
   "metadata": {},
   "source": [
    "83. We can also test for values in a list."
   ]
  },
  {
   "cell_type": "code",
   "execution_count": null,
   "metadata": {},
   "outputs": [],
   "source": [
    "fruits = ['apple', 'pear', 'orange']\n",
    "\n",
    "#a test to see if apple is on the list\n",
    "if 'apple' in fruits:\n",
    "  print('Would you like an apple?')\n",
    "else:\n",
    "  print('Sorry, we are all out of apples.')\n",
    "\n",
    "#a test to see if banana is NOT on the list\n",
    "if 'banana' not in fruits:\n",
    "  print('Yes, we have no bananas')\n",
    "else:\n",
    "  print('Would you like a banana?')"
   ]
  },
  {
   "cell_type": "markdown",
   "metadata": {},
   "source": [
    "<blockquote>QM: Explain what this program will output and why.</blockquote>"
   ]
  },
  {
   "cell_type": "markdown",
   "metadata": {},
   "source": [
    "# Task 9: Gathering Input\n",
    "\n",
    "84. So far we’ve written programs that have included the data being processed, but many programs ask for input from their users. \n",
    "\n",
    "85. The `input` function allows you to prompt a user for string-based information. "
   ]
  },
  {
   "cell_type": "code",
   "execution_count": null,
   "metadata": {},
   "outputs": [],
   "source": [
    "name = input(\"Please enter your name: \")\n",
    "print(\"Hello, \" + name)"
   ]
  },
  {
   "cell_type": "markdown",
   "metadata": {},
   "source": [
    "<blockquote>QN: What did the program output? Explain this program in your own words.</blockquote>"
   ]
  },
  {
   "cell_type": "markdown",
   "metadata": {},
   "source": [
    "86. Here we set the variable name to the input that we receive from the user. \n",
    "\n",
    "87. The text in the `()` following the `input` function provides the prompt for the user. We can then reuse the name variable in the `print` function.\n",
    "\n",
    "88. Now let’s try an example with numbers. The following program sets a number and asks the user to guess the number.  Notice that we use the `input()` function for integers."
   ]
  },
  {
   "cell_type": "code",
   "execution_count": null,
   "metadata": {},
   "outputs": [],
   "source": [
    "#sets variable secret_number\n",
    "secret_number = 3\n",
    "\n",
    "#asks the user for a number. NOTE we use input instead of raw_input for integers\n",
    "number = input(\"Guess a number between 1 and 10: \")\n",
    "\n",
    "#sets up a loop that will continue to run while the number does not match the secret number\n",
    "while int(number) != secret_number:\n",
    "\n",
    "  #sets up conditional statements that return clues for the user\n",
    "  if int(number) == secret_number + 1 or int(number) == secret_number - 1:\n",
    "    print(\"You are really close!\")\n",
    "\n",
    "  #NOTE that the elif statement here stands for \"else if\"\n",
    "  #you want to use elif if you have more than two conditions\n",
    "  elif int(number) < secret_number:\n",
    "    print(\"Too low!\")\n",
    "\n",
    "  else:\n",
    "    print(\"Too high!\")\n",
    "\n",
    "  #tells the user to input a new number to guess again\n",
    "  number = input(\"Guess again: \")\n",
    "\n",
    "#prints when the user guesses the right number\n",
    "print(\"You guessed it!\")"
   ]
  },
  {
   "cell_type": "markdown",
   "metadata": {},
   "source": [
    "89. Program without the comments."
   ]
  },
  {
   "cell_type": "code",
   "execution_count": null,
   "metadata": {},
   "outputs": [],
   "source": [
    "secret_number = 3\n",
    "\n",
    "number = input(\"Guess a number between 1 and 10: \")\n",
    "\n",
    "while int(number) != secret_number:\n",
    "  if int(number) == secret_number + 1 or int(number) == secret_number - 1:\n",
    "    print(\"You are really close!\")\n",
    "  elif int(number) < secret_number:\n",
    "    print(\"Too low!\")\n",
    "  else:\n",
    "    print(\"Too high!\")\n",
    "  number = input(\"Guess again: \")\n",
    "\n",
    "print(\"You guessed it!\")"
   ]
  },
  {
   "cell_type": "markdown",
   "metadata": {},
   "source": [
    "<blockquote>QO: Modify the code to change the range to have the user guess between 1 and 100. Then, change the conditional statement to return a “really close” message if they are within a 3 digit range of your number. Include the code in your notes and explain how the program works in your own words.</blockquote>"
   ]
  },
  {
   "cell_type": "markdown",
   "metadata": {},
   "source": [
    "# Task 10: Describing Data With Dictionaries\n",
    "\n",
    "90. We’ll return to inputs, loops, and conditional statements in a minute. Let’s look at another way of storing information with Python. \n",
    "\n",
    "91. I've created metadata to describe the information about each of the items we selected for the HTML project. We can also store this metadata in Python using a Dictionary.\n",
    "\n",
    "Example of the XML (eXtensible Markup Language) file with the item metadata:\n",
    "```XML\n",
    "<books>\n",
    "  <book>\n",
    "    <title>CSS: The Definitive Guide</title>\n",
    "    <author>Eric Meyer</author>\n",
    "    <year>2007</year>\n",
    "  </book>\n",
    "  <book>\n",
    "    <title>Learning XML</title>\n",
    "    <author>Erik Ray</author>\n",
    "    <year>2003</year>\n",
    "  </book>\n",
    "</books>\n",
    "```\n",
    "\n",
    "92. For now, let’s work with the first example\n",
    "```XML\n",
    "<book>\n",
    "  <title>CSS: The Definitive Guide</title>\n",
    "  <author>Eric Meyer</author>\n",
    "   <year>2007</year>\n",
    "</book>\n",
    "```\n",
    "93. This section of XML has a few different pieces of information about one of the items in a collection. We couuld create a list to hold all of this information."
   ]
  },
  {
   "cell_type": "code",
   "execution_count": null,
   "metadata": {},
   "outputs": [],
   "source": [
    "book=[\"CSS: The Definitive Guide\", \"Eric Meyer\", \"2007\"]"
   ]
  },
  {
   "cell_type": "markdown",
   "metadata": {},
   "source": [
    "94. But, we lose some meaning here. This now looks like an arbitrary list of information about a work. \n",
    "\n",
    "95. In this example, a list just isn’t powerful enough to store our data. A Dictionary allows us to keep the associated descriptors for each of the items, or the metadata schema that we generated in the last project.\n",
    "\n",
    "96. A dictionary uses a slightly different syntax."
   ]
  },
  {
   "cell_type": "code",
   "execution_count": null,
   "metadata": {},
   "outputs": [],
   "source": [
    "book={'title': 'CSS: The Definitive Guide', 'author': 'Eric Meyer', 'date': '2007'}"
   ]
  },
  {
   "cell_type": "markdown",
   "metadata": {},
   "source": [
    "97. As with a list, we assign a variable to our dictionary. In this example the variable is `work`. \n",
    "\n",
    "98. The data for the dictionary is wrapped in braces `{ }` rather than the brackets used in a list. \n",
    "\n",
    "99. The information is added in a series of pairs called key-value pairs. Each key is the equivalent of the XML tag and each value equal to the value we associated with the tag."
   ]
  },
  {
   "cell_type": "markdown",
   "metadata": {},
   "source": [
    "<blockquote>QP: Create a dictionary for one of the items in your collection using the template outlined in this tutorial. Write a print command and explain the output of your program in your own words.</blockquote>"
   ]
  },
  {
   "cell_type": "markdown",
   "metadata": {},
   "source": [
    "100. Just like with the list, we can also create a loop to return each of the values in my new dictionary."
   ]
  },
  {
   "cell_type": "code",
   "execution_count": null,
   "metadata": {},
   "outputs": [],
   "source": [
    "book={'title': 'CSS: The Definitive Guide', 'author': 'Eric Meyer', 'date': '2007'}\n",
    "\n",
    "for key, value in book.items():\n",
    "  print(\"Key: \" + key)\n",
    "  print(\"Value: \" + value)"
   ]
  },
  {
   "cell_type": "markdown",
   "metadata": {},
   "source": [
    "101. This program returns the output:\n",
    "```Python\n",
    "Key: date\n",
    "Value: 2007\n",
    "Key: author\n",
    "Value: Eric Meyer\n",
    "Key: title\n",
    "Value: CSS: The Definitive Guide\n",
    "```\n",
    "\n",
    "102. This program assigns the variable `key` to the key and `value` to the value for each key-value pair. We could use any variables for key and value.\n",
    "\n",
    "103. The following program will return the same output:"
   ]
  },
  {
   "cell_type": "code",
   "execution_count": null,
   "metadata": {},
   "outputs": [],
   "source": [
    "for tag, data in book.items():\n",
    "  print(\"Key: \" +tag)\n",
    "  print(\"value: \" + data)"
   ]
  },
  {
   "cell_type": "markdown",
   "metadata": {},
   "source": [
    "<blockquote>QQ: Try the following two programs. What did the programs output? Explain how each program works in your own words.</blockquote>"
   ]
  },
  {
   "cell_type": "code",
   "execution_count": null,
   "metadata": {},
   "outputs": [],
   "source": [
    "for tag in book.keys():\n",
    "  print(tag)"
   ]
  },
  {
   "cell_type": "code",
   "execution_count": null,
   "metadata": {},
   "outputs": [],
   "source": [
    "for data in book.values(): \n",
    "    print(data)"
   ]
  },
  {
   "cell_type": "markdown",
   "metadata": {},
   "source": [
    "104. Like with lists, we can start with an empty dictionary and add values."
   ]
  },
  {
   "cell_type": "code",
   "execution_count": null,
   "metadata": {},
   "outputs": [],
   "source": [
    "book={}\n",
    "book['title']='CSS: The Definitive Guide'\n",
    "book['author']='Eric Meyer'\n",
    "book['date']='2007'\n",
    "  \n",
    "print(book)"
   ]
  },
  {
   "cell_type": "markdown",
   "metadata": {},
   "source": [
    "105. This program outputs `{'date': 2007, 'author': 'Eric Meyer', 'title': 'CSS: The Definitive Guide'}`\n",
    "  \n",
    "106. We can modify elements in the dictionary and add new elements in the same way."
   ]
  },
  {
   "cell_type": "code",
   "execution_count": null,
   "metadata": {},
   "outputs": [],
   "source": [
    "book={'title': 'CSS: The Definitive Guide', 'author': 'Eric Meyer', 'date': '2007'}\n",
    "  \n",
    "#modify the date to 2002\n",
    "book['date'] = 2002\n",
    "  \n",
    "print(book)"
   ]
  },
  {
   "cell_type": "markdown",
   "metadata": {},
   "source": [
    "<blockquote>QR: What do you expect this program to output? Why?</blockquote>"
   ]
  },
  {
   "cell_type": "markdown",
   "metadata": {},
   "source": [
    "107. We can also delete key-value pairs using the `del` function."
   ]
  },
  {
   "cell_type": "code",
   "execution_count": null,
   "metadata": {},
   "outputs": [],
   "source": [
    "book={'title': 'CSS: The Definitive Guide', 'author': 'Eric Meyer', 'date': '2007'}\n",
    "  \n",
    "del book['title']\n",
    " \n",
    "print(book)"
   ]
  },
  {
   "cell_type": "markdown",
   "metadata": {},
   "source": [
    "108. This outputs `{'date': '2007', 'title': 'CSS: The Definitive Guide'}`\n",
    "\n",
    "109. We can also check to see if a key or value is in the dictionary."
   ]
  },
  {
   "cell_type": "code",
   "execution_count": null,
   "metadata": {},
   "outputs": [],
   "source": [
    "book={'title': 'CSS: The Definitive Guide', 'author': 'Eric Meyer', 'date': '2007'}\n",
    "\n",
    "if 'title' not in book.keys():\n",
    "  print(\"The Title is missing.\")\n",
    "\n",
    "if 'HTML' not in book.values():\n",
    "  print(\"The title is \" + book['title'])"
   ]
  },
  {
   "cell_type": "markdown",
   "metadata": {},
   "source": [
    "<blockquote>QR: Explain the if functions in your own words. What does this program output? Why?</blockquote>"
   ]
  },
  {
   "cell_type": "markdown",
   "metadata": {},
   "source": [
    "# Notebook questions for this component of the lab\n",
    "\n",
    "QA: In your own words, explain the difference between the `print(hello)` command we just used and `print(“hello”)`.\n",
    "\n",
    "QB: Describe the syntax three commands that we just used in your own words. Define the function and method for each example.\n",
    "\n",
    "QC: Explain how each of these two programs (above) work in your own words.\n",
    "\n",
    "QD: Why does `print(2/3)` return 0? How would you modify your code to return the decimal number?\n",
    "\n",
    "QE: Explain `concatenation` in your own words. Why must we convert numbers to strings in the program above? Refer to this example and the previous example.\n",
    "\n",
    "QF: Create your own list using the program above as an example. Share your code in your notebook as well as the result. What is the number position for each of the items in your list? How would you return the value of the first item? How would you return the value of the last item?\n",
    "\n",
    "QG: What is an alternative way to write the `print` command to return the length of the list. *Hint* you’ll combine the last two lines of the example above.\n",
    "\n",
    "QH: How would you modify this code to output the full range 1-10?\n",
    "\n",
    "QI: How would you rewrite the code to include only the even numbers from 1 to 10?\n",
    "\n",
    "QJ: Either include a snippet of your version of this program in your notebook and explain your code, AND/OR explain how the example version of this program works.\n",
    "\n",
    "QK: What do you expect this code to output? Explain how this program works in your own words.\n",
    "\n",
    "QL: Did the program return the results that you expected? Explain the output in your own words.\n",
    "\n",
    "QM: Explain what this program will output and why.\n",
    "\n",
    "QN: What did the program output? Explain this program in your own words.\n",
    "\n",
    "QO: Modify the code to change the range to have the user guess between 1 and 100. Then, change the conditional statement to return a “really close” message if they are within a 3 digit range of your number. Include the code in your notes and explain how the program works in your own words.\n",
    "\n",
    "QP: Create a dictionary for one of the items in your collection using the tags and information from your XML file. Write a `print` command and explain the output of your program in your own words.\t\n",
    "\n",
    "QQ: Try the following two programs. What did the programs output? Explain how each program works in your own words."
   ]
  },
  {
   "cell_type": "code",
   "execution_count": null,
   "metadata": {},
   "outputs": [],
   "source": [
    "for tag in book.keys():\n",
    "  print(tag)"
   ]
  },
  {
   "cell_type": "code",
   "execution_count": null,
   "metadata": {},
   "outputs": [],
   "source": [
    "for data in book.values(): \n",
    "    print(data)"
   ]
  },
  {
   "cell_type": "markdown",
   "metadata": {},
   "source": [
    "QR: Explain the `if` functions in your own words. What does this program output? Why?"
   ]
  }
 ],
 "metadata": {
  "kernelspec": {
   "display_name": "Python 3",
   "language": "python",
   "name": "python3"
  },
  "language_info": {
   "codemirror_mode": {
    "name": "ipython",
    "version": 3
   },
   "file_extension": ".py",
   "mimetype": "text/x-python",
   "name": "python",
   "nbconvert_exporter": "python",
   "pygments_lexer": "ipython3",
   "version": "3.6.9"
  }
 },
 "nbformat": 4,
 "nbformat_minor": 4
}
